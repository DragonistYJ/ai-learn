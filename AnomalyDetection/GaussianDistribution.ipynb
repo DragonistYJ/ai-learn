{
 "cells": [
  {
   "cell_type": "markdown",
   "metadata": {},
   "source": [
    "使用高斯分布（正太分布）来进行异常检测\n",
    "\n",
    "1. 选择特征$x_i$来作为可能是异常样本的分类指标\n",
    "2. 计算参数$\\mu_1,...,\\mu_n,\\sigma_1^2,...,\\sigma_n^2$，其中$n$为特征向量的维度\n",
    "$$\\mu_j=\\frac{1}{m}\\sum_{i=1}^m x_j^{(i)}$$\n",
    "$$\\sigma_j^2=\\frac{1}{m}\\sum_{i=1}^m(x_j^{(i)}-\\mu_j)^2$$\n",
    "3. 给定一个新的样本$x$，计算$p(x)$：\n",
    "$$p(x)=\\prod_{j=1}^n p(x_j;\\mu_j,\\sigma_j^2)=\\prod_{j=1}^n \\frac{1}{\\sqrt{2\\pi}\\sigma_j}e^{-\\frac{(x_i-\\mu_j)^2}{2\\sigma_j^2}}$$\n",
    "\n",
    "如果$p(x)<\\epsilon$,则一个样本为异常"
   ]
  },
  {
   "cell_type": "code",
   "execution_count": 1,
   "metadata": {},
   "outputs": [],
   "source": [
    "import torch\n",
    "import matplotlib.pyplot as plt\n",
    "from pyecharts import options\n",
    "import math"
   ]
  },
  {
   "cell_type": "code",
   "execution_count": 2,
   "metadata": {},
   "outputs": [],
   "source": [
    "data = torch.normal(torch.ones(50, 2), torch.tensor([1.]))"
   ]
  },
  {
   "cell_type": "code",
   "execution_count": 3,
   "metadata": {},
   "outputs": [
    {
     "data": {
      "image/png": "[encoded data removed]",
      "text/plain": [
       "<Figure size 432x288 with 1 Axes>"
      ]
     },
     "metadata": {
      "needs_background": "light"
     },
     "output_type": "display_data"
    }
   ],
   "source": [
    "plt.scatter(data.numpy()[:, 0], data.numpy()[:, 1])\n",
    "plt.show()"
   ]
  },
  {
   "cell_type": "code",
   "execution_count": 4,
   "metadata": {},
   "outputs": [],
   "source": [
    "u = data.mean(dim=0)\n",
    "sigma_square = (data - u).pow(2).mean(dim=0)\n",
    "\n",
    "\n",
    "def probability(x):\n",
    "    t = (sigma_square * 2 * math.pi).rsqrt()\n",
    "    e = -((x - u).pow(2) / (2 * sigma_square))\n",
    "    return (t * math.e**e).prod()"
   ]
  },
  {
   "cell_type": "code",
   "execution_count": 6,
   "metadata": {},
   "outputs": [
    {
     "data": {
      "text/plain": [
       "tensor(0.2211)"
      ]
     },
     "execution_count": 6,
     "metadata": {},
     "output_type": "execute_result"
    }
   ],
   "source": [
    "probability(torch.tensor([1, 1],dtype=torch.float32))"
   ]
  }
 ],
 "metadata": {
  "kernelspec": {
   "display_name": "Python 3",
   "language": "python",
   "name": "python3"
  },
  "language_info": {
   "codemirror_mode": {
    "name": "ipython",
    "version": 3
   },
   "file_extension": ".py",
   "mimetype": "text/x-python",
   "name": "python",
   "nbconvert_exporter": "python",
   "pygments_lexer": "ipython3",
   "version": "3.8.5"
  },
  "toc": {
   "base_numbering": 1,
   "nav_menu": {},
   "number_sections": true,
   "sideBar": true,
   "skip_h1_title": false,
   "title_cell": "Table of Contents",
   "title_sidebar": "Contents",
   "toc_cell": false,
   "toc_position": {},
   "toc_section_display": true,
   "toc_window_display": false
  },
  "varInspector": {
   "cols": {
    "lenName": 16,
    "lenType": 16,
    "lenVar": 40
   },
   "kernels_config": {
    "python": {
     "delete_cmd_postfix": "",
     "delete_cmd_prefix": "del ",
     "library": "var_list.py",
     "varRefreshCmd": "print(var_dic_list())"
    },
    "r": {
     "delete_cmd_postfix": ") ",
     "delete_cmd_prefix": "rm(",
     "library": "var_list.r",
     "varRefreshCmd": "cat(var_dic_list()) "
    }
   },
   "types_to_exclude": [
    "module",
    "function",
    "builtin_function_or_method",
    "instance",
    "_Feature"
   ],
   "window_display": false
  }
 },
 "nbformat": 4,
 "nbformat_minor": 4
}

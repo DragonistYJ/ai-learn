{
 "cells": [
  {
   "cell_type": "code",
   "execution_count": 18,
   "metadata": {},
   "outputs": [],
   "source": [
    "import sklearn\n",
    "from sklearn import svm\n",
    "import numpy as np\n",
    "import matplotlib\n",
    "import matplotlib.pyplot as plt"
   ]
  },
  {
   "cell_type": "markdown",
   "metadata": {},
   "source": [
    "# 数据集处理\n",
    "\n",
    "## 读取数据\n",
    "\n",
    "使用鸢尾花数据集"
   ]
  },
  {
   "cell_type": "code",
   "execution_count": 5,
   "metadata": {},
   "outputs": [],
   "source": [
    "def iris_label(s):\n",
    "    it = {b'Iris-setosa': 0, b'Iris-versicolor': 1, b'Iris-virginica': 2}\n",
    "    return it[s]\n",
    "\n",
    "\n",
    "path = './iris.data'\n",
    "data = np.loadtxt(path, dtype=float, delimiter=',', converters={4: iris_label})"
   ]
  },
  {
   "cell_type": "markdown",
   "metadata": {},
   "source": [
    "## 划分训练集、测试集"
   ]
  },
  {
   "cell_type": "code",
   "execution_count": 9,
   "metadata": {},
   "outputs": [],
   "source": [
    "x, y = np.split(data, indices_or_sections=(4, ), axis=1)\n",
    "x = x[:, 0:2]  #为便于后边画图显示，只选取前两维度。若不用画图，可选取前四列x[:,0:4]\n",
    "train_data, test_data, train_label, test_label = sklearn.model_selection.train_test_split(\n",
    "    x, y, random_state=1, train_size=0.6, test_size=0.4)"
   ]
  },
  {
   "cell_type": "markdown",
   "metadata": {},
   "source": [
    "# 训练SVM"
   ]
  },
  {
   "cell_type": "code",
   "execution_count": 10,
   "metadata": {},
   "outputs": [
    {
     "data": {
      "text/plain": [
       "SVC(C=2, gamma=10)"
      ]
     },
     "execution_count": 10,
     "metadata": {},
     "output_type": "execute_result"
    }
   ],
   "source": [
    "classifier = svm.SVC(C=2,\n",
    "                     kernel='rbf',\n",
    "                     gamma=10,\n",
    "                     decision_function_shape='ovr')  # ovr:一对多策略\n",
    "classifier.fit(train_data, train_label.ravel())"
   ]
  },
  {
   "cell_type": "markdown",
   "metadata": {},
   "source": [
    "# 计算准确率\n",
    "\n",
    "## 直接计算"
   ]
  },
  {
   "cell_type": "code",
   "execution_count": 11,
   "metadata": {},
   "outputs": [
    {
     "name": "stdout",
     "output_type": "stream",
     "text": [
      "训练集： 0.8555555555555555\n",
      "测试集： 0.7\n"
     ]
    }
   ],
   "source": [
    "print(\"训练集：\",classifier.score(train_data,train_label))\n",
    "print(\"测试集：\",classifier.score(test_data,test_label))"
   ]
  },
  {
   "cell_type": "markdown",
   "metadata": {},
   "source": [
    "## 使用accuracy_score函数"
   ]
  },
  {
   "cell_type": "code",
   "execution_count": 12,
   "metadata": {},
   "outputs": [
    {
     "name": "stdout",
     "output_type": "stream",
     "text": [
      "训练集： 0.8555555555555555\n",
      "测试集： 0.7\n"
     ]
    }
   ],
   "source": [
    "from sklearn.metrics import accuracy_score\n",
    "tra_label=classifier.predict(train_data) #训练集的预测标签\n",
    "tes_label=classifier.predict(test_data) #测试集的预测标签\n",
    "print(\"训练集：\", accuracy_score(train_label,tra_label) )\n",
    "print(\"测试集：\", accuracy_score(test_label,tes_label) )"
   ]
  },
  {
   "cell_type": "markdown",
   "metadata": {},
   "source": [
    "# 查看内部决策函数\n",
    "\n",
    "显示的是样本到分类平面的距离"
   ]
  },
  {
   "cell_type": "code",
   "execution_count": 13,
   "metadata": {},
   "outputs": [
    {
     "name": "stdout",
     "output_type": "stream",
     "text": [
      "train_decision_function: [[ 2.22308592  0.84616841 -0.17947608]\n",
      " [-0.2225123   2.2071765   1.08924729]\n",
      " [-0.2242179   1.07937608  2.21178139]\n",
      " [ 2.22223582  0.83797673 -0.17109399]\n",
      " [ 2.22386153  0.8446035  -0.17983668]\n",
      " [-0.22089479  0.98227728  2.22298496]\n",
      " [ 2.22220938  0.84699664 -0.17838033]\n",
      " [-0.22103052  2.20266299  1.09813055]\n",
      " [-0.20671804  0.8504463   2.23661442]\n",
      " [-0.22496875  1.11829364  2.20136897]\n",
      " [-0.22872124  2.22475971  1.03471748]\n",
      " [-0.20603407  0.90792604  2.22222742]\n",
      " [-0.22463211  2.21744465  1.05326508]\n",
      " [ 2.22223034  0.8469462  -0.17838384]\n",
      " [-0.18653362  2.22221038  0.85945491]\n",
      " [-0.22250331  1.05689863  2.21436127]\n",
      " [-0.22089479  0.98227728  2.22298496]\n",
      " [-0.21654784  2.22813805  0.92025351]\n",
      " [-0.19539985  0.8454045   2.2317554 ]\n",
      " [-0.21119823  2.22222188  0.92897426]\n",
      " [ 2.22222331  0.84837192 -0.17940832]\n",
      " [ 2.23012971  0.83469888 -0.18492888]\n",
      " [ 2.22222523  0.84698189 -0.17840026]\n",
      " [-0.20603407  0.90792604  2.22222742]\n",
      " [ 2.22813517  0.83838682 -0.18368743]\n",
      " [-0.22532288  2.22224177  1.02628154]\n",
      " [-0.21992928  0.98095225  2.22222032]\n",
      " [-0.22704059  2.22702432  1.00015996]\n",
      " [ 2.23185953  0.83373291 -0.18775408]\n",
      " [ 2.22226383  0.84894252 -0.17989277]\n",
      " [-0.22825441  2.22221144  1.04904292]\n",
      " [ 2.23012971  0.83469888 -0.18492888]\n",
      " [-0.1748001   0.84239364  2.22220335]\n",
      " [-0.22272711  2.19556417  1.12424045]\n",
      " [-0.17220215  0.83924455  2.22222974]\n",
      " [-0.22587742  1.16706447  2.17439597]\n",
      " [-0.18975727  2.22222418  0.86526815]\n",
      " [-0.18858236  0.86302838  2.22223529]\n",
      " [-0.17876569  0.84758751  2.22218441]\n",
      " [-0.21733181  2.22332507  0.95488021]\n",
      " [ 2.22221301  0.84697401 -0.17837069]\n",
      " [-0.22825441  2.22221144  1.04904292]\n",
      " [ 2.22221629  0.85980165 -0.18674432]\n",
      " [-0.20412215  2.22222288  0.90136522]\n",
      " [-0.22283496  2.22663985  0.96762344]\n",
      " [ 2.22222326  0.84723141 -0.17858018]\n",
      " [-0.2055041   2.22222444  0.90605904]\n",
      " [ 2.2222125   0.84713057 -0.17848515]\n",
      " [ 2.22308592  0.84616841 -0.17947608]\n",
      " [-0.18387872  0.83482922  2.2295733 ]\n",
      " [-0.22176859  2.21764694  1.0320692 ]\n",
      " [-0.22097549  2.16439764  1.16612948]\n",
      " [ 2.22298528  0.84682001 -0.17975673]\n",
      " [ 2.22391214  0.84478763 -0.18007276]\n",
      " [-0.21020854  2.21714598  0.95361498]\n",
      " [ 2.22453396  0.84267678 -0.17971732]\n",
      " [-0.22825441  2.22221144  1.04904292]\n",
      " [ 2.22774622  0.83769784 -0.18236636]\n",
      " [-0.22089479  0.98227728  2.22298496]\n",
      " [-0.21509152  2.15985967  1.15766918]\n",
      " [ 2.22222041  0.84649576 -0.17803014]\n",
      " [-0.20268849  0.85926603  2.23177404]\n",
      " [ 2.22220982  0.84672123 -0.17817727]\n",
      " [-0.20484177  2.2262063   0.88634552]\n",
      " [ 2.22222783  0.84511434 -0.17699956]\n",
      " [-0.20412215  2.22222288  0.90136522]\n",
      " [-0.17611423  2.22219118  0.84406801]\n",
      " [ 2.2266304   0.84085133 -0.18252151]\n",
      " [ 2.22515332  0.83388559 -0.17368246]\n",
      " [-0.21796892  2.20357612  1.08090266]\n",
      " [ 2.22219388  0.84701626 -0.1783647 ]\n",
      " [-0.22704059  2.22702432  1.00015996]\n",
      " [-0.223963    2.22002041  1.03195866]\n",
      " [ 2.22222326  0.84723141 -0.17858018]\n",
      " [-0.22496875  1.11829364  2.20136897]\n",
      " [-0.22706361  2.2301792   0.97115357]\n",
      " [-0.18281671  2.22652633  0.84152553]\n",
      " [-0.21490121  2.22140773  0.95312974]\n",
      " [-0.22825441  2.22221144  1.04904292]\n",
      " [ 2.22222373  0.86496317 -0.18959671]\n",
      " [ 2.22222691  0.83973443 -0.17262096]\n",
      " [-0.22308532  2.19156125  1.13400638]\n",
      " [-0.22563823  2.22035667  1.04213519]\n",
      " [-0.19986212  0.9464461   2.20936377]\n",
      " [-0.22680454  2.21293333  1.08832453]\n",
      " [-0.22506625  1.11705651  2.20197413]\n",
      " [-0.2110973   0.92858664  2.22220807]\n",
      " [-0.21253813  2.16916106  1.14055526]\n",
      " [-0.22496875  1.11829364  2.20136897]\n",
      " [ 2.23012971  0.83469888 -0.18492888]]\n",
      "predict_result: [0. 1. 2. 0. 0. 2. 0. 1. 2. 2. 1. 2. 1. 0. 1. 2. 2. 1. 2. 1. 0. 0. 0. 2.\n",
      " 0. 1. 2. 1. 0. 0. 1. 0. 2. 1. 2. 2. 1. 2. 2. 1. 0. 1. 0. 1. 1. 0. 1. 0.\n",
      " 0. 2. 1. 1. 0. 0. 1. 0. 1. 0. 2. 1. 0. 2. 0. 1. 0. 1. 1. 0. 0. 1. 0. 1.\n",
      " 1. 0. 2. 1. 1. 1. 1. 0. 0. 1. 1. 2. 1. 2. 2. 1. 2. 0.]\n"
     ]
    }
   ],
   "source": [
    "print('train_decision_function:',classifier.decision_function(train_data))\n",
    "print('predict_result:',classifier.predict(train_data))"
   ]
  },
  {
   "cell_type": "markdown",
   "metadata": {},
   "source": [
    "# 绘制图像"
   ]
  },
  {
   "cell_type": "code",
   "execution_count": 17,
   "metadata": {},
   "outputs": [],
   "source": [
    "#5.绘制图形\n",
    "#确定坐标轴范围\n",
    "x1_min, x1_max=x[:,0].min(), x[:,0].max() #第0维特征的范围\n",
    "x2_min, x2_max=x[:,1].min(), x[:,1].max() #第1维特征的范围\n",
    "x1,x2=np.mgrid[x1_min:x1_max:200j, x2_min:x2_max:200j ] #生成网络采样点\n",
    "grid_test=np.stack((x1.flat,x2.flat) ,axis=1) #测试点\n",
    "#指定默认字体\n",
    "matplotlib.rcParams['font.sans-serif']=['SimHei']\n",
    "#设置颜色\n",
    "cm_light=matplotlib.colors.ListedColormap(['#A0FFA0', '#FFA0A0', '#A0A0FF'])\n",
    "cm_dark=matplotlib.colors.ListedColormap(['g','r','b'] )\n",
    " \n",
    "grid_hat = classifier.predict(grid_test)       # 预测分类值\n",
    "grid_hat = grid_hat.reshape(x1.shape)  # 使之与输入的形状相同"
   ]
  },
  {
   "cell_type": "code",
   "execution_count": 19,
   "metadata": {},
   "outputs": [
    {
     "name": "stderr",
     "output_type": "stream",
     "text": [
      "<ipython-input-19-8108de3a520f>:1: MatplotlibDeprecationWarning: shading='flat' when X and Y have the same dimensions as C is deprecated since 3.3.  Either specify the corners of the quadrilaterals with X and Y, or pass shading='auto', 'nearest' or 'gouraud', or set rcParams['pcolor.shading'].  This will become an error two minor releases later.\n",
      "  plt.pcolormesh(x1, x2, grid_hat, cmap=cm_light)     # 预测值的显示\n"
     ]
    },
    {
     "data": {
      "image/png": "[encoded data removed]",
      "text/plain": [
       "<Figure size 432x288 with 1 Axes>"
      ]
     },
     "metadata": {
      "needs_background": "light"
     },
     "output_type": "display_data"
    }
   ],
   "source": [
    "plt.pcolormesh(x1, x2, grid_hat, cmap=cm_light)     # 预测值的显示\n",
    "plt.scatter(x[:, 0], x[:, 1], c=y[:,0], s=30,cmap=cm_dark)  # 样本\n",
    "plt.scatter(test_data[:,0],test_data[:,1], c=test_label[:,0],s=30,edgecolors='k', zorder=2,cmap=cm_dark) #圈中测试集样本点\n",
    "plt.xlabel('花萼长度', fontsize=13)\n",
    "plt.ylabel('花萼宽度', fontsize=13)\n",
    "plt.xlim(x1_min,x1_max)\n",
    "plt.ylim(x2_min,x2_max)\n",
    "plt.title('鸢尾花SVM二特征分类')\n",
    "plt.show()"
   ]
  },
  {
   "cell_type": "markdown",
   "metadata": {},
   "source": [
    "# 对比神经网络"
   ]
  },
  {
   "cell_type": "code",
   "execution_count": 79,
   "metadata": {},
   "outputs": [],
   "source": [
    "x, y = np.split(data, indices_or_sections=(4, ), axis=1)\n",
    "train_data, test_data, train_label, test_label = sklearn.model_selection.train_test_split(\n",
    "    x, y, random_state=1, train_size=0.8, test_size=0.2)"
   ]
  },
  {
   "cell_type": "code",
   "execution_count": 29,
   "metadata": {},
   "outputs": [
    {
     "data": {
      "text/plain": [
       "SVC(C=2, gamma=10)"
      ]
     },
     "execution_count": 29,
     "metadata": {},
     "output_type": "execute_result"
    }
   ],
   "source": [
    "my_svm = svm.SVC(C=2,\n",
    "                     kernel='rbf',\n",
    "                     gamma=10,\n",
    "                     decision_function_shape='ovr')  # ovr:一对多策略\n",
    "my_svm.fit(train_data, train_label.ravel())"
   ]
  },
  {
   "cell_type": "code",
   "execution_count": 31,
   "metadata": {},
   "outputs": [
    {
     "name": "stdout",
     "output_type": "stream",
     "text": [
      "训练集： 1.0\n",
      "测试集： 0.9333333333333333\n"
     ]
    }
   ],
   "source": [
    "print(\"训练集：\",my_svm.score(train_data,train_label))\n",
    "print(\"测试集：\",my_svm.score(test_data,test_label))"
   ]
  },
  {
   "cell_type": "code",
   "execution_count": 113,
   "metadata": {},
   "outputs": [],
   "source": [
    "import torch\n",
    "from torch import nn\n",
    "from torch.nn import functional\n",
    "from torch import optim"
   ]
  },
  {
   "cell_type": "code",
   "execution_count": 171,
   "metadata": {},
   "outputs": [
    {
     "data": {
      "text/plain": [
       "Net(\n",
       "  (fc1): Linear(in_features=4, out_features=10, bias=True)\n",
       "  (fc2): Linear(in_features=10, out_features=20, bias=True)\n",
       "  (fc3): Linear(in_features=20, out_features=10, bias=True)\n",
       "  (fc4): Linear(in_features=10, out_features=3, bias=True)\n",
       ")"
      ]
     },
     "execution_count": 171,
     "metadata": {},
     "output_type": "execute_result"
    }
   ],
   "source": [
    "class Net(nn.Module):\n",
    "    def __init__(self):\n",
    "        super().__init__()\n",
    "        self.fc1 = nn.Linear(4, 10)\n",
    "        self.fc2 = nn.Linear(10, 20)\n",
    "        self.fc3 = nn.Linear(20, 10)\n",
    "        self.fc4 = nn.Linear(10, 3)\n",
    "\n",
    "    def forward(self, inputs):\n",
    "        x = functional.relu(self.fc1(inputs))\n",
    "        x = functional.relu(self.fc2(x))\n",
    "        x = functional.relu(self.fc3(x))\n",
    "        x = self.fc4(x)\n",
    "        return x\n",
    "\n",
    "\n",
    "device = torch.device(\"cuda:0\")\n",
    "net = Net()\n",
    "net.to(device)"
   ]
  },
  {
   "cell_type": "code",
   "execution_count": 172,
   "metadata": {},
   "outputs": [],
   "source": [
    "train_data_tensor = torch.from_numpy(train_data.astype(np.float32))\n",
    "train_label_tensor = torch.from_numpy(train_label.reshape(train_label.shape[0]).astype(np.int64))\n",
    "\n",
    "dataset = torch.utils.data.TensorDataset(train_data_tensor, train_label_tensor)\n",
    "data_loader = torch.utils.data.DataLoader(dataset,\n",
    "                                          batch_size=8,\n",
    "                                          shuffle=True,\n",
    "                                          num_workers=2)"
   ]
  },
  {
   "cell_type": "code",
   "execution_count": 174,
   "metadata": {},
   "outputs": [
    {
     "name": "stdout",
     "output_type": "stream",
     "text": [
      "epoch=0 loss=0.002449\n",
      "epoch=1 loss=0.005750\n",
      "epoch=2 loss=0.005574\n",
      "epoch=3 loss=0.132550\n",
      "epoch=4 loss=0.002536\n",
      "epoch=5 loss=0.001627\n",
      "epoch=6 loss=0.008880\n",
      "epoch=7 loss=0.042198\n",
      "epoch=8 loss=0.001475\n",
      "epoch=9 loss=0.001468\n",
      "epoch=10 loss=0.068746\n",
      "epoch=11 loss=0.001093\n",
      "epoch=12 loss=0.376727\n",
      "epoch=13 loss=0.023637\n",
      "epoch=14 loss=0.095205\n",
      "epoch=15 loss=0.061011\n",
      "epoch=16 loss=0.040224\n",
      "epoch=17 loss=0.002585\n",
      "epoch=18 loss=0.002909\n",
      "epoch=19 loss=0.146559\n",
      "epoch=20 loss=0.006752\n",
      "epoch=21 loss=0.045587\n",
      "epoch=22 loss=0.006663\n",
      "epoch=23 loss=0.332735\n",
      "epoch=24 loss=0.276454\n",
      "epoch=25 loss=0.004833\n",
      "epoch=26 loss=0.346213\n",
      "epoch=27 loss=0.010260\n",
      "epoch=28 loss=0.000552\n",
      "epoch=29 loss=0.018528\n",
      "epoch=30 loss=0.003725\n",
      "epoch=31 loss=0.041997\n",
      "epoch=32 loss=0.074331\n",
      "epoch=33 loss=0.003109\n",
      "epoch=34 loss=0.008400\n",
      "epoch=35 loss=0.003537\n",
      "epoch=36 loss=0.047681\n",
      "epoch=37 loss=0.097895\n",
      "epoch=38 loss=0.090904\n",
      "epoch=39 loss=0.006847\n",
      "epoch=40 loss=0.002539\n",
      "epoch=41 loss=0.019041\n",
      "epoch=42 loss=0.111784\n",
      "epoch=43 loss=0.002177\n",
      "epoch=44 loss=0.033526\n",
      "epoch=45 loss=0.008913\n",
      "epoch=46 loss=0.333577\n",
      "epoch=47 loss=0.014021\n",
      "epoch=48 loss=0.021789\n",
      "epoch=49 loss=0.010880\n",
      "epoch=50 loss=0.095288\n",
      "epoch=51 loss=0.008038\n",
      "epoch=52 loss=0.000803\n",
      "epoch=53 loss=0.348055\n",
      "epoch=54 loss=0.023038\n",
      "epoch=55 loss=0.001073\n",
      "epoch=56 loss=0.008159\n",
      "epoch=57 loss=0.079299\n",
      "epoch=58 loss=0.054333\n",
      "epoch=59 loss=0.024393\n",
      "epoch=60 loss=0.014527\n",
      "epoch=61 loss=0.001142\n",
      "epoch=62 loss=0.042026\n",
      "epoch=63 loss=0.143551\n",
      "epoch=64 loss=0.004881\n",
      "epoch=65 loss=0.105809\n",
      "epoch=66 loss=0.022837\n",
      "epoch=67 loss=0.001620\n",
      "epoch=68 loss=0.120081\n",
      "epoch=69 loss=0.002132\n",
      "epoch=70 loss=0.011252\n",
      "epoch=71 loss=0.032157\n",
      "epoch=72 loss=0.127751\n",
      "epoch=73 loss=0.089717\n",
      "epoch=74 loss=0.003649\n",
      "epoch=75 loss=0.000699\n",
      "epoch=76 loss=0.008600\n",
      "epoch=77 loss=0.020152\n",
      "epoch=78 loss=0.019133\n",
      "epoch=79 loss=0.100244\n",
      "epoch=80 loss=0.156438\n",
      "epoch=81 loss=0.003688\n",
      "epoch=82 loss=0.022005\n",
      "epoch=83 loss=0.165123\n",
      "epoch=84 loss=0.114796\n",
      "epoch=85 loss=0.116752\n",
      "epoch=86 loss=0.111480\n",
      "epoch=87 loss=0.062740\n",
      "epoch=88 loss=0.001107\n",
      "epoch=89 loss=0.020828\n",
      "epoch=90 loss=0.002272\n",
      "epoch=91 loss=0.025989\n",
      "epoch=92 loss=0.004803\n",
      "epoch=93 loss=0.289871\n",
      "epoch=94 loss=0.015304\n",
      "epoch=95 loss=0.003923\n",
      "epoch=96 loss=0.005630\n",
      "epoch=97 loss=0.060996\n",
      "epoch=98 loss=0.200696\n",
      "epoch=99 loss=0.000657\n",
      "epoch=100 loss=0.004511\n",
      "epoch=101 loss=0.001233\n",
      "epoch=102 loss=0.000541\n",
      "epoch=103 loss=0.236534\n",
      "epoch=104 loss=0.016643\n",
      "epoch=105 loss=0.001185\n",
      "epoch=106 loss=0.271260\n",
      "epoch=107 loss=0.049838\n",
      "epoch=108 loss=0.091372\n",
      "epoch=109 loss=0.290163\n",
      "epoch=110 loss=0.265789\n",
      "epoch=111 loss=0.000925\n",
      "epoch=112 loss=0.003949\n",
      "epoch=113 loss=0.053458\n",
      "epoch=114 loss=0.223188\n",
      "epoch=115 loss=0.067952\n",
      "epoch=116 loss=0.007727\n",
      "epoch=117 loss=0.023856\n",
      "epoch=118 loss=0.089452\n",
      "epoch=119 loss=0.001044\n",
      "epoch=120 loss=0.029465\n",
      "epoch=121 loss=0.000712\n",
      "epoch=122 loss=0.000690\n",
      "epoch=123 loss=0.108028\n",
      "epoch=124 loss=0.001120\n",
      "epoch=125 loss=0.085656\n",
      "epoch=126 loss=0.074197\n",
      "epoch=127 loss=0.015740\n",
      "epoch=128 loss=0.155834\n",
      "epoch=129 loss=0.187320\n",
      "epoch=130 loss=0.105844\n",
      "epoch=131 loss=0.004807\n",
      "epoch=132 loss=0.000988\n",
      "epoch=133 loss=0.001378\n",
      "epoch=134 loss=0.245186\n",
      "epoch=135 loss=0.175436\n",
      "epoch=136 loss=0.010780\n",
      "epoch=137 loss=0.000863\n",
      "epoch=138 loss=0.000889\n",
      "epoch=139 loss=0.001960\n",
      "epoch=140 loss=0.026657\n",
      "epoch=141 loss=0.002483\n",
      "epoch=142 loss=0.324633\n",
      "epoch=143 loss=0.001456\n",
      "epoch=144 loss=0.272064\n",
      "epoch=145 loss=0.011921\n",
      "epoch=146 loss=0.003502\n",
      "epoch=147 loss=0.001019\n",
      "epoch=148 loss=0.005503\n",
      "epoch=149 loss=0.038309\n",
      "epoch=150 loss=0.000656\n",
      "epoch=151 loss=0.028401\n",
      "epoch=152 loss=0.000877\n",
      "epoch=153 loss=0.082557\n",
      "epoch=154 loss=0.000035\n",
      "epoch=155 loss=0.002605\n",
      "epoch=156 loss=0.000822\n",
      "epoch=157 loss=0.000516\n",
      "epoch=158 loss=0.024591\n",
      "epoch=159 loss=0.169676\n",
      "epoch=160 loss=0.500939\n",
      "epoch=161 loss=0.274698\n",
      "epoch=162 loss=0.000851\n",
      "epoch=163 loss=0.012472\n",
      "epoch=164 loss=0.010560\n",
      "epoch=165 loss=0.235853\n",
      "epoch=166 loss=0.000377\n",
      "epoch=167 loss=0.238838\n",
      "epoch=168 loss=0.000612\n",
      "epoch=169 loss=0.011782\n",
      "epoch=170 loss=0.002212\n",
      "epoch=171 loss=0.002886\n",
      "epoch=172 loss=0.000889\n",
      "epoch=173 loss=0.488533\n",
      "epoch=174 loss=0.065181\n",
      "epoch=175 loss=0.004099\n",
      "epoch=176 loss=0.001450\n",
      "epoch=177 loss=0.051544\n",
      "epoch=178 loss=0.112959\n",
      "epoch=179 loss=0.089485\n",
      "epoch=180 loss=0.007188\n",
      "epoch=181 loss=0.183110\n",
      "epoch=182 loss=0.110213\n",
      "epoch=183 loss=0.000303\n",
      "epoch=184 loss=0.122416\n",
      "epoch=185 loss=0.226013\n",
      "epoch=186 loss=0.171878\n",
      "epoch=187 loss=0.000419\n",
      "epoch=188 loss=0.000834\n",
      "epoch=189 loss=0.061707\n",
      "epoch=190 loss=0.005618\n",
      "epoch=191 loss=0.087807\n",
      "epoch=192 loss=0.004543\n",
      "epoch=193 loss=0.042813\n",
      "epoch=194 loss=0.003363\n",
      "epoch=195 loss=0.057900\n",
      "epoch=196 loss=0.006628\n",
      "epoch=197 loss=0.075165\n",
      "epoch=198 loss=0.001815\n",
      "epoch=199 loss=0.008573\n"
     ]
    }
   ],
   "source": [
    "criterion = nn.CrossEntropyLoss()\n",
    "optimizer = optim.Adam(net.parameters())\n",
    "\n",
    "for step in range(200):\n",
    "    for i, data in enumerate(data_loader):\n",
    "        inputs, label = data\n",
    "        optimizer.zero_grad()\n",
    "        out = net(inputs.to(device))\n",
    "        loss = criterion(out.to(device), label.to(device))\n",
    "        loss.backward()\n",
    "        optimizer.step()\n",
    "        if (i % 10 == 9):\n",
    "            print(\"epoch=%d loss=%f\" % (step, loss))"
   ]
  },
  {
   "cell_type": "code",
   "execution_count": 175,
   "metadata": {},
   "outputs": [
    {
     "name": "stdout",
     "output_type": "stream",
     "text": [
      "1.0\n"
     ]
    }
   ],
   "source": [
    "test_data_tensor = torch.from_numpy(test_data.astype(np.float32))\n",
    "test_label_tensor = torch.from_numpy(test_label.reshape(test_label.shape[0]).astype(np.int64))\n",
    "\n",
    "def accuracy(datas,labels):\n",
    "    n = len(datas)\n",
    "    t = 0\n",
    "    for data,label in zip(datas, labels):\n",
    "        predict = torch.argmax(net(data.to(device)))\n",
    "        if predict.item() == label.item():\n",
    "            t +=1\n",
    "    return t / n\n",
    "\n",
    "acc = accuracy(test_data_tensor, test_label_tensor)\n",
    "print(acc)"
   ]
  },
  {
   "cell_type": "code",
   "execution_count": null,
   "metadata": {},
   "outputs": [],
   "source": []
  }
 ],
 "metadata": {
  "kernelspec": {
   "display_name": "Python 3",
   "language": "python",
   "name": "python3"
  },
  "language_info": {
   "codemirror_mode": {
    "name": "ipython",
    "version": 3
   },
   "file_extension": ".py",
   "mimetype": "text/x-python",
   "name": "python",
   "nbconvert_exporter": "python",
   "pygments_lexer": "ipython3",
   "version": "3.8.5"
  },
  "toc": {
   "base_numbering": 1,
   "nav_menu": {},
   "number_sections": true,
   "sideBar": true,
   "skip_h1_title": false,
   "title_cell": "Table of Contents",
   "title_sidebar": "Contents",
   "toc_cell": false,
   "toc_position": {},
   "toc_section_display": true,
   "toc_window_display": true
  },
  "varInspector": {
   "cols": {
    "lenName": 16,
    "lenType": 16,
    "lenVar": 40
   },
   "kernels_config": {
    "python": {
     "delete_cmd_postfix": "",
     "delete_cmd_prefix": "del ",
     "library": "var_list.py",
     "varRefreshCmd": "print(var_dic_list())"
    },
    "r": {
     "delete_cmd_postfix": ") ",
     "delete_cmd_prefix": "rm(",
     "library": "var_list.r",
     "varRefreshCmd": "cat(var_dic_list()) "
    }
   },
   "types_to_exclude": [
    "module",
    "function",
    "builtin_function_or_method",
    "instance",
    "_Feature"
   ],
   "window_display": false
  }
 },
 "nbformat": 4,
 "nbformat_minor": 4
}

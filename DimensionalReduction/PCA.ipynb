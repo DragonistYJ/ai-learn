{
 "cells": [
  {
   "cell_type": "code",
   "execution_count": 48,
   "metadata": {},
   "outputs": [],
   "source": [
    "import torch\n",
    "import random"
   ]
  },
  {
   "cell_type": "code",
   "execution_count": 49,
   "metadata": {},
   "outputs": [
    {
     "name": "stdout",
     "output_type": "stream",
     "text": [
      "tensor([[ -9.5000, -28.5000],\n",
      "        [ -8.5000, -25.5000],\n",
      "        [ -7.5000, -22.5000],\n",
      "        [ -6.5000, -19.5000],\n",
      "        [ -5.5000, -16.5000],\n",
      "        [ -4.5000, -13.5000],\n",
      "        [ -3.5000, -10.5000],\n",
      "        [ -2.5000,  -7.5000],\n",
      "        [ -1.5000,  -4.5000],\n",
      "        [ -0.5000,  -1.5000],\n",
      "        [  0.5000,   1.5000],\n",
      "        [  1.5000,   4.5000],\n",
      "        [  2.5000,   7.5000],\n",
      "        [  3.5000,  10.5000],\n",
      "        [  4.5000,  13.5000],\n",
      "        [  5.5000,  16.5000],\n",
      "        [  6.5000,  19.5000],\n",
      "        [  7.5000,  22.5000],\n",
      "        [  8.5000,  25.5000],\n",
      "        [  9.5000,  28.5000]])\n"
     ]
    }
   ],
   "source": [
    "data = torch.linspace(1, 20, 20)\n",
    "data = torch.unsqueeze(data, dim=1)\n",
    "data = torch.cat((data, data * 3 + 2), dim=1)\n",
    "data -= data.mean(dim=0)\n",
    "print(data)"
   ]
  },
  {
   "cell_type": "code",
   "execution_count": 50,
   "metadata": {},
   "outputs": [
    {
     "name": "stdout",
     "output_type": "stream",
     "text": [
      "tensor([[ 30.0416],\n",
      "        [ 26.8794],\n",
      "        [ 23.7171],\n",
      "        [ 20.5548],\n",
      "        [ 17.3925],\n",
      "        [ 14.2302],\n",
      "        [ 11.0680],\n",
      "        [  7.9057],\n",
      "        [  4.7434],\n",
      "        [  1.5811],\n",
      "        [ -1.5811],\n",
      "        [ -4.7434],\n",
      "        [ -7.9057],\n",
      "        [-11.0680],\n",
      "        [-14.2302],\n",
      "        [-17.3925],\n",
      "        [-20.5548],\n",
      "        [-23.7171],\n",
      "        [-26.8794],\n",
      "        [-30.0416]])\n"
     ]
    }
   ],
   "source": [
    "covariance_matirx = data.transpose(0, 1).matmul(data)\n",
    "u,s,v = torch.svd(covariance_matirx)\n",
    "new_data = u.transpose(0,1)[0].matmul(data.transpose(0,1)).unsqueeze(dim=1)\n",
    "print(new_data)"
   ]
  },
  {
   "cell_type": "code",
   "execution_count": 51,
   "metadata": {},
   "outputs": [
    {
     "name": "stdout",
     "output_type": "stream",
     "text": [
      "[[ 30.04165  ]\n",
      " [ 26.879364 ]\n",
      " [ 23.717087 ]\n",
      " [ 20.554806 ]\n",
      " [ 17.39253  ]\n",
      " [ 14.230251 ]\n",
      " [ 11.067973 ]\n",
      " [  7.905695 ]\n",
      " [  4.7434173]\n",
      " [  1.5811392]\n",
      " [ -1.5811392]\n",
      " [ -4.7434173]\n",
      " [ -7.905695 ]\n",
      " [-11.067973 ]\n",
      " [-14.230251 ]\n",
      " [-17.39253  ]\n",
      " [-20.554806 ]\n",
      " [-23.717087 ]\n",
      " [-26.879364 ]\n",
      " [-30.041641 ]]\n"
     ]
    }
   ],
   "source": [
    "from sklearn.decomposition import PCA\n",
    "\n",
    "pca = PCA(n_components=1)\n",
    "new_data = pca.fit_transform(data.numpy())\n",
    "print(new_data)"
   ]
  }
 ],
 "metadata": {
  "kernelspec": {
   "display_name": "Python 3",
   "language": "python",
   "name": "python3"
  },
  "language_info": {
   "codemirror_mode": {
    "name": "ipython",
    "version": 3
   },
   "file_extension": ".py",
   "mimetype": "text/x-python",
   "name": "python",
   "nbconvert_exporter": "python",
   "pygments_lexer": "ipython3",
   "version": "3.8.5"
  },
  "toc": {
   "base_numbering": 1,
   "nav_menu": {},
   "number_sections": true,
   "sideBar": true,
   "skip_h1_title": false,
   "title_cell": "Table of Contents",
   "title_sidebar": "Contents",
   "toc_cell": false,
   "toc_position": {},
   "toc_section_display": true,
   "toc_window_display": false
  },
  "varInspector": {
   "cols": {
    "lenName": 16,
    "lenType": 16,
    "lenVar": 40
   },
   "kernels_config": {
    "python": {
     "delete_cmd_postfix": "",
     "delete_cmd_prefix": "del ",
     "library": "var_list.py",
     "varRefreshCmd": "print(var_dic_list())"
    },
    "r": {
     "delete_cmd_postfix": ") ",
     "delete_cmd_prefix": "rm(",
     "library": "var_list.r",
     "varRefreshCmd": "cat(var_dic_list()) "
    }
   },
   "types_to_exclude": [
    "module",
    "function",
    "builtin_function_or_method",
    "instance",
    "_Feature"
   ],
   "window_display": false
  }
 },
 "nbformat": 4,
 "nbformat_minor": 4
}

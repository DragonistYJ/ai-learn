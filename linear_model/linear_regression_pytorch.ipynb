{
 "cells": [
  {
   "cell_type": "code",
   "execution_count": 1,
   "metadata": {},
   "outputs": [],
   "source": [
    "import torch\n",
    "from torch import nn\n",
    "from torch import optim\n",
    "from torch.nn import functional as F"
   ]
  },
  {
   "cell_type": "code",
   "execution_count": 2,
   "metadata": {},
   "outputs": [
    {
     "data": {
      "text/plain": [
       "LinearNet(\n",
       "  (full_connection): Linear(in_features=4, out_features=1, bias=True)\n",
       ")"
      ]
     },
     "execution_count": 2,
     "metadata": {},
     "output_type": "execute_result"
    }
   ],
   "source": [
    "class LinearNet(nn.Module):\n",
    "    def __init__(self):\n",
    "        super().__init__()\n",
    "        self.full_connection = nn.Linear(4, 1)\n",
    "\n",
    "    def forward(self, input):\n",
    "        return self.full_connection(input)\n",
    "\n",
    "device = torch.device(\"cuda:0\" if torch.cuda.is_available() else \"cpu\")\n",
    "net = LinearNet()\n",
    "net.to(device)"
   ]
  },
  {
   "cell_type": "code",
   "execution_count": 25,
   "metadata": {},
   "outputs": [],
   "source": [
    "weight = torch.tensor([4., 5., 6., 7.])\n",
    "\n",
    "\n",
    "def create_data(size=100000):\n",
    "    x = torch.randint(low=0, high=50, size=(size, 4)).float()\n",
    "    y = torch.matmul(weight, torch.transpose(x, 0, 1)) + 24.0\n",
    "    y = torch.unsqueeze(y, dim=1)\n",
    "    return x, y"
   ]
  },
  {
   "cell_type": "code",
   "execution_count": 26,
   "metadata": {},
   "outputs": [],
   "source": [
    "x, y = create_data()"
   ]
  },
  {
   "cell_type": "code",
   "execution_count": 27,
   "metadata": {},
   "outputs": [],
   "source": [
    "dataset = torch.utils.data.TensorDataset(x, y)\n",
    "data_loader = torch.utils.data.DataLoader(dataset, batch_size=16,\n",
    "                                          shuffle=True, num_workers=2)"
   ]
  },
  {
   "cell_type": "code",
   "execution_count": 28,
   "metadata": {},
   "outputs": [
    {
     "name": "stdout",
     "output_type": "stream",
     "text": [
      "tensor([[17., 36., 31., 49.],\n",
      "        [32., 46., 27., 27.],\n",
      "        [ 0., 38., 30., 36.],\n",
      "        [47., 17., 12., 16.],\n",
      "        [19., 35.,  5.,  0.],\n",
      "        [43.,  0., 10., 16.],\n",
      "        [ 9.,  2.,  6.,  6.],\n",
      "        [ 9., 47., 46.,  6.],\n",
      "        [18., 44., 35., 10.],\n",
      "        [44., 27., 32., 49.],\n",
      "        [30., 13., 38., 38.],\n",
      "        [46.,  6., 20.,  3.],\n",
      "        [43., 39., 18., 13.],\n",
      "        [10., 14., 34., 33.],\n",
      "        [ 1., 21., 37., 19.],\n",
      "        [26., 25., 24., 44.]])\n",
      "tensor([[801.],\n",
      "        [733.],\n",
      "        [646.],\n",
      "        [481.],\n",
      "        [305.],\n",
      "        [368.],\n",
      "        [148.],\n",
      "        [613.],\n",
      "        [596.],\n",
      "        [870.],\n",
      "        [703.],\n",
      "        [379.],\n",
      "        [590.],\n",
      "        [569.],\n",
      "        [488.],\n",
      "        [705.]])\n"
     ]
    }
   ],
   "source": [
    "data_iter = iter(data_loader)\n",
    "xx, yy = next(data_iter)\n",
    "print(xx)\n",
    "print(yy)"
   ]
  },
  {
   "cell_type": "code",
   "execution_count": 29,
   "metadata": {},
   "outputs": [],
   "source": [
    "criterion = nn.MSELoss()\n",
    "optimizer = optim.Adam(params=net.parameters())"
   ]
  },
  {
   "cell_type": "code",
   "execution_count": 30,
   "metadata": {},
   "outputs": [
    {
     "name": "stdout",
     "output_type": "stream",
     "text": [
      "[1,  1000] loss: 202312.406\n",
      "[1,  2000] loss: 153615.297\n",
      "[1,  3000] loss: 115231.711\n",
      "[1,  4000] loss: 54431.266\n",
      "[1,  5000] loss: 31171.340\n",
      "[1,  6000] loss: 13296.635\n",
      "[2,  1000] loss: 4758.806\n",
      "[2,  2000] loss: 777.669\n",
      "[2,  3000] loss: 954.972\n",
      "[2,  4000] loss: 418.792\n",
      "[2,  5000] loss: 249.823\n",
      "[2,  6000] loss: 99.648\n",
      "[3,  1000] loss: 31.379\n",
      "[3,  2000] loss: 24.206\n",
      "[3,  3000] loss: 31.024\n",
      "[3,  4000] loss: 25.886\n",
      "[3,  5000] loss: 14.108\n",
      "[3,  6000] loss: 18.625\n",
      "[4,  1000] loss: 8.855\n",
      "[4,  2000] loss: 17.699\n",
      "[4,  3000] loss: 21.818\n",
      "[4,  4000] loss: 6.474\n",
      "[4,  5000] loss: 4.987\n",
      "[4,  6000] loss: 9.389\n",
      "[5,  1000] loss: 6.558\n",
      "[5,  2000] loss: 7.587\n",
      "[5,  3000] loss: 5.388\n",
      "[5,  4000] loss: 3.761\n",
      "[5,  5000] loss: 2.934\n",
      "[5,  6000] loss: 1.747\n",
      "[6,  1000] loss: 1.959\n",
      "[6,  2000] loss: 1.692\n",
      "[6,  3000] loss: 1.566\n",
      "[6,  4000] loss: 1.141\n",
      "[6,  5000] loss: 0.352\n",
      "[6,  6000] loss: 0.378\n",
      "[7,  1000] loss: 0.189\n",
      "[7,  2000] loss: 0.045\n",
      "[7,  3000] loss: 0.013\n",
      "[7,  4000] loss: 0.004\n",
      "[7,  5000] loss: 0.000\n",
      "[7,  6000] loss: 0.000\n",
      "[8,  1000] loss: 0.000\n",
      "[8,  2000] loss: 0.000\n",
      "[8,  3000] loss: 0.000\n",
      "[8,  4000] loss: 0.000\n",
      "[8,  5000] loss: 0.000\n",
      "[8,  6000] loss: 0.000\n",
      "[9,  1000] loss: 0.000\n",
      "[9,  2000] loss: 0.000\n",
      "[9,  3000] loss: 0.000\n",
      "[9,  4000] loss: 0.000\n",
      "[9,  5000] loss: 0.000\n",
      "[9,  6000] loss: 0.002\n",
      "[10,  1000] loss: 0.000\n",
      "[10,  2000] loss: 0.000\n",
      "[10,  3000] loss: 0.000\n",
      "[10,  4000] loss: 0.000\n",
      "[10,  5000] loss: 0.000\n",
      "[10,  6000] loss: 0.000\n"
     ]
    }
   ],
   "source": [
    "for epoch in range(10):\n",
    "    for i, data in enumerate(data_loader):\n",
    "        inputs, label = data\n",
    "\n",
    "        optimizer.zero_grad()\n",
    "\n",
    "        outputs = net(inputs.cuda())\n",
    "        loss = criterion(outputs.cuda(), label.cuda())\n",
    "        loss.backward()\n",
    "        optimizer.step()\n",
    "\n",
    "        if i % 1000 == 999:\n",
    "            print('[%d, %5d] loss: %.3f' % (epoch + 1, i + 1, loss))"
   ]
  },
  {
   "cell_type": "code",
   "execution_count": 1,
   "metadata": {},
   "outputs": [
    {
     "ename": "NameError",
     "evalue": "name 'net' is not defined",
     "output_type": "error",
     "traceback": [
      "\u001b[1;31m---------------------------------------------------------------------------\u001b[0m",
      "\u001b[1;31mNameError\u001b[0m                                 Traceback (most recent call last)",
      "\u001b[1;32m<ipython-input-1-5d225367c662>\u001b[0m in \u001b[0;36m<module>\u001b[1;34m\u001b[0m\n\u001b[1;32m----> 1\u001b[1;33m \u001b[0mnet\u001b[0m\u001b[1;33m(\u001b[0m\u001b[0mtorch\u001b[0m\u001b[1;33m.\u001b[0m\u001b[0mTensor\u001b[0m\u001b[1;33m(\u001b[0m\u001b[1;33m[\u001b[0m\u001b[1;36m1\u001b[0m\u001b[1;33m,\u001b[0m\u001b[1;36m2\u001b[0m\u001b[1;33m,\u001b[0m\u001b[1;36m3\u001b[0m\u001b[1;33m,\u001b[0m\u001b[1;36m4\u001b[0m\u001b[1;33m]\u001b[0m\u001b[1;33m)\u001b[0m\u001b[1;33m.\u001b[0m\u001b[0mto\u001b[0m\u001b[1;33m(\u001b[0m\u001b[0mdevice\u001b[0m\u001b[1;33m)\u001b[0m\u001b[1;33m)\u001b[0m\u001b[1;33m\u001b[0m\u001b[1;33m\u001b[0m\u001b[0m\n\u001b[0m",
      "\u001b[1;31mNameError\u001b[0m: name 'net' is not defined"
     ]
    }
   ],
   "source": [
    "net(torch.Tensor([1,2,3,4]).to(device))"
   ]
  },
  {
   "cell_type": "code",
   "execution_count": null,
   "metadata": {},
   "outputs": [],
   "source": []
  },
  {
   "cell_type": "code",
   "execution_count": null,
   "metadata": {},
   "outputs": [],
   "source": [
    "import os\n",
    " \n",
    "pid = os.getpid()\n",
    "!taskkill /pid $pid /F"
   ]
  },
  {
   "cell_type": "code",
   "execution_count": null,
   "metadata": {},
   "outputs": [],
   "source": []
  }
 ],
 "metadata": {
  "kernelspec": {
   "display_name": "Python 3",
   "language": "python",
   "name": "python3"
  },
  "language_info": {
   "codemirror_mode": {
    "name": "ipython",
    "version": 3
   },
   "file_extension": ".py",
   "mimetype": "text/x-python",
   "name": "python",
   "nbconvert_exporter": "python",
   "pygments_lexer": "ipython3",
   "version": "3.8.5"
  },
  "toc": {
   "base_numbering": 1,
   "nav_menu": {},
   "number_sections": true,
   "sideBar": true,
   "skip_h1_title": false,
   "title_cell": "Table of Contents",
   "title_sidebar": "Contents",
   "toc_cell": false,
   "toc_position": {},
   "toc_section_display": true,
   "toc_window_display": false
  },
  "varInspector": {
   "cols": {
    "lenName": 16,
    "lenType": 16,
    "lenVar": 40
   },
   "kernels_config": {
    "python": {
     "delete_cmd_postfix": "",
     "delete_cmd_prefix": "del ",
     "library": "var_list.py",
     "varRefreshCmd": "print(var_dic_list())"
    },
    "r": {
     "delete_cmd_postfix": ") ",
     "delete_cmd_prefix": "rm(",
     "library": "var_list.r",
     "varRefreshCmd": "cat(var_dic_list()) "
    }
   },
   "types_to_exclude": [
    "module",
    "function",
    "builtin_function_or_method",
    "instance",
    "_Feature"
   ],
   "window_display": false
  }
 },
 "nbformat": 4,
 "nbformat_minor": 4
}
